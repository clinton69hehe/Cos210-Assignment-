{
 "cells": [
  {
   "cell_type": "markdown",
   "id": "80d8a930",
   "metadata": {},
   "source": [
    "# Housing Sales Data Visualization\n",
    "This notebook generates 9 different charts using the provided housing sales dataset."
   ]
  },
  {
   "cell_type": "code",
   "execution_count": null,
   "id": "c063b9c3",
   "metadata": {},
   "outputs": [],
   "source": [
    "\n",
    "import pandas as pd\n",
    "import matplotlib.pyplot as plt\n",
    "\n",
    "# Load dataset\n",
    "df = pd.read_csv(\"housing_sales_1000.csv\")\n",
    "df.head()\n"
   ]
  },
  {
   "cell_type": "code",
   "execution_count": null,
   "id": "104ce4c9",
   "metadata": {},
   "outputs": [],
   "source": [
    "\n",
    "plt.figure(figsize=(8,5))\n",
    "plt.hist(df['SalePrice'], bins=30, edgecolor='black')\n",
    "plt.title(\"Distribution of Sale Prices\")\n",
    "plt.xlabel(\"Sale Price\")\n",
    "plt.ylabel(\"Frequency\")\n",
    "plt.show()\n"
   ]
  },
  {
   "cell_type": "code",
   "execution_count": null,
   "id": "eff05ae2",
   "metadata": {},
   "outputs": [],
   "source": [
    "\n",
    "plt.figure(figsize=(8,5))\n",
    "df['Beds'].value_counts().sort_index().plot(kind='bar', color='skyblue')\n",
    "plt.title(\"Number of Bedrooms Distribution\")\n",
    "plt.xlabel(\"Bedrooms\")\n",
    "plt.ylabel(\"Count\")\n",
    "plt.show()\n"
   ]
  },
  {
   "cell_type": "code",
   "execution_count": null,
   "id": "845c00f3",
   "metadata": {},
   "outputs": [],
   "source": [
    "\n",
    "plt.figure(figsize=(8,5))\n",
    "df['Baths'].value_counts().sort_index().plot(kind='bar', color='lightgreen')\n",
    "plt.title(\"Number of Bathrooms Distribution\")\n",
    "plt.xlabel(\"Bathrooms\")\n",
    "plt.ylabel(\"Count\")\n",
    "plt.show()\n"
   ]
  },
  {
   "cell_type": "code",
   "execution_count": null,
   "id": "8be2810b",
   "metadata": {},
   "outputs": [],
   "source": [
    "\n",
    "plt.figure(figsize=(10,5))\n",
    "df.groupby('City')['SalePrice'].mean().sort_values().plot(kind='bar', color='orange')\n",
    "plt.title(\"Average Sale Price by City\")\n",
    "plt.xlabel(\"City\")\n",
    "plt.ylabel(\"Average Price\")\n",
    "plt.show()\n"
   ]
  },
  {
   "cell_type": "code",
   "execution_count": null,
   "id": "0b0f9475",
   "metadata": {},
   "outputs": [],
   "source": [
    "\n",
    "plt.figure(figsize=(8,5))\n",
    "plt.scatter(df['SqFt'], df['SalePrice'], alpha=0.6)\n",
    "plt.title(\"Square Footage vs Sale Price\")\n",
    "plt.xlabel(\"Square Footage\")\n",
    "plt.ylabel(\"Sale Price\")\n",
    "plt.show()\n"
   ]
  },
  {
   "cell_type": "code",
   "execution_count": null,
   "id": "39482f46",
   "metadata": {},
   "outputs": [],
   "source": [
    "\n",
    "plt.figure(figsize=(8,5))\n",
    "plt.scatter(df['LotAcres'], df['SalePrice'], alpha=0.6, color='purple')\n",
    "plt.title(\"Lot Size vs Sale Price\")\n",
    "plt.xlabel(\"Lot Size (Acres)\")\n",
    "plt.ylabel(\"Sale Price\")\n",
    "plt.show()\n"
   ]
  },
  {
   "cell_type": "code",
   "execution_count": null,
   "id": "f7eecc16",
   "metadata": {},
   "outputs": [],
   "source": [
    "\n",
    "plt.figure(figsize=(8,5))\n",
    "df['PropertyType'].value_counts().plot(kind='bar', color='teal')\n",
    "plt.title(\"Property Type Distribution\")\n",
    "plt.xlabel(\"Property Type\")\n",
    "plt.ylabel(\"Count\")\n",
    "plt.show()\n"
   ]
  },
  {
   "cell_type": "code",
   "execution_count": null,
   "id": "4a6b1d13",
   "metadata": {},
   "outputs": [],
   "source": [
    "\n",
    "plt.figure(figsize=(8,5))\n",
    "plt.hist(df['YearBuilt'], bins=30, edgecolor='black', color='red')\n",
    "plt.title(\"Distribution of Year Built\")\n",
    "plt.xlabel(\"Year Built\")\n",
    "plt.ylabel(\"Count\")\n",
    "plt.show()\n"
   ]
  },
  {
   "cell_type": "code",
   "execution_count": null,
   "id": "d9bc901d",
   "metadata": {},
   "outputs": [],
   "source": [
    "\n",
    "plt.figure(figsize=(8,5))\n",
    "plt.hist(df['DaysOnMarket'], bins=30, edgecolor='black', color='brown')\n",
    "plt.title(\"Days on Market Distribution\")\n",
    "plt.xlabel(\"Days on Market\")\n",
    "plt.ylabel(\"Count\")\n",
    "plt.show()\n"
   ]
  }
 ],
 "metadata": {},
 "nbformat": 4,
 "nbformat_minor": 5
}
